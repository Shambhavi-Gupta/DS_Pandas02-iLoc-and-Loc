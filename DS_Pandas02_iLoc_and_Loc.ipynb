{
  "nbformat": 4,
  "nbformat_minor": 0,
  "metadata": {
    "colab": {
      "name": "DS_Pandas02-iLoc and Loc.ipynb",
      "provenance": [],
      "authorship_tag": "ABX9TyPiBVyQvhJ5GBHp2jjtrvmQ",
      "include_colab_link": true
    },
    "kernelspec": {
      "name": "python3",
      "display_name": "Python 3"
    }
  },
  "cells": [
    {
      "cell_type": "markdown",
      "metadata": {
        "id": "view-in-github",
        "colab_type": "text"
      },
      "source": [
        "<a href=\"https://colab.research.google.com/github/Shambhavi-Gupta/DS_Pandas02-iLoc-and-Loc/blob/master/DS_Pandas02_iLoc_and_Loc.ipynb\" target=\"_parent\"><img src=\"https://colab.research.google.com/assets/colab-badge.svg\" alt=\"Open In Colab\"/></a>"
      ]
    },
    {
      "cell_type": "code",
      "metadata": {
        "id": "oNMdgINnn9bP",
        "colab_type": "code",
        "colab": {}
      },
      "source": [
        "import numpy as np\n",
        "import pandas as pd"
      ],
      "execution_count": null,
      "outputs": []
    },
    {
      "cell_type": "markdown",
      "metadata": {
        "id": "Ipm1XNAioHvd",
        "colab_type": "text"
      },
      "source": [
        "#**iLoc and Loc**"
      ]
    },
    {
      "cell_type": "code",
      "metadata": {
        "id": "1SH2BPeJoGs3",
        "colab_type": "code",
        "colab": {}
      },
      "source": [
        "s = pd.Series([0.0 ,1 ,1 ,2 ,3 ,5 ,8] , index=[1, 2 ,3 ,4 ,5 ,6 ,7])"
      ],
      "execution_count": null,
      "outputs": []
    },
    {
      "cell_type": "code",
      "metadata": {
        "id": "D_sog_Qboluh",
        "colab_type": "code",
        "colab": {
          "base_uri": "https://localhost:8080/",
          "height": 153
        },
        "outputId": "299a3530-0e82-4faa-d8a6-4067deee5e92"
      },
      "source": [
        "print(s)"
      ],
      "execution_count": null,
      "outputs": [
        {
          "output_type": "stream",
          "text": [
            "1    0.0\n",
            "2    1.0\n",
            "3    1.0\n",
            "4    2.0\n",
            "5    3.0\n",
            "6    5.0\n",
            "7    8.0\n",
            "dtype: float64\n"
          ],
          "name": "stdout"
        }
      ]
    },
    {
      "cell_type": "code",
      "metadata": {
        "id": "MDViN5L9onFw",
        "colab_type": "code",
        "colab": {
          "base_uri": "https://localhost:8080/",
          "height": 34
        },
        "outputId": "f36f2689-32ca-4b8e-b308-91c86ea4bb3e"
      },
      "source": [
        "\"\"\"Loc gives the value as per defined by the index\"\"\"\n",
        "s.loc[4]"
      ],
      "execution_count": null,
      "outputs": [
        {
          "output_type": "execute_result",
          "data": {
            "text/plain": [
              "2.0"
            ]
          },
          "metadata": {
            "tags": []
          },
          "execution_count": 5
        }
      ]
    },
    {
      "cell_type": "code",
      "metadata": {
        "id": "aVDrldUSo2QI",
        "colab_type": "code",
        "colab": {
          "base_uri": "https://localhost:8080/",
          "height": 34
        },
        "outputId": "673c62b5-fa13-4466-e60d-309dcf64827e"
      },
      "source": [
        "\"\"\"iLoc gives the implicit location of the index\"\"\"\n",
        "s.iloc[4]"
      ],
      "execution_count": null,
      "outputs": [
        {
          "output_type": "execute_result",
          "data": {
            "text/plain": [
              "3.0"
            ]
          },
          "metadata": {
            "tags": []
          },
          "execution_count": 6
        }
      ]
    },
    {
      "cell_type": "code",
      "metadata": {
        "id": "jWbZ-UFbppqY",
        "colab_type": "code",
        "colab": {}
      },
      "source": [
        "d ={}\n",
        "d['mass'] = 0.33\n",
        "d['diameter'] = 57.9\n",
        "d['dayLength'] = 4222.6"
      ],
      "execution_count": null,
      "outputs": []
    },
    {
      "cell_type": "code",
      "metadata": {
        "id": "hRahZdCfpMth",
        "colab_type": "code",
        "colab": {}
      },
      "source": [
        "mercury = pd.Series(d ,index = ['mass','diameter','dayLength'])"
      ],
      "execution_count": null,
      "outputs": []
    },
    {
      "cell_type": "code",
      "metadata": {
        "id": "0b-TZrZsptR0",
        "colab_type": "code",
        "colab": {
          "base_uri": "https://localhost:8080/",
          "height": 34
        },
        "outputId": "7d26e261-6045-46be-aca3-5b04aba1e8e3"
      },
      "source": [
        "mercury.loc['mass']"
      ],
      "execution_count": null,
      "outputs": [
        {
          "output_type": "execute_result",
          "data": {
            "text/plain": [
              "0.33"
            ]
          },
          "metadata": {
            "tags": []
          },
          "execution_count": 9
        }
      ]
    },
    {
      "cell_type": "code",
      "metadata": {
        "id": "kbho07GMpxF1",
        "colab_type": "code",
        "colab": {
          "base_uri": "https://localhost:8080/",
          "height": 34
        },
        "outputId": "43da5858-9312-4d8f-facb-ed5839f489f5"
      },
      "source": [
        "mercury.iloc[0]"
      ],
      "execution_count": null,
      "outputs": [
        {
          "output_type": "execute_result",
          "data": {
            "text/plain": [
              "0.33"
            ]
          },
          "metadata": {
            "tags": []
          },
          "execution_count": 10
        }
      ]
    },
    {
      "cell_type": "code",
      "metadata": {
        "id": "LKaUqJadqU4m",
        "colab_type": "code",
        "colab": {
          "base_uri": "https://localhost:8080/",
          "height": 34
        },
        "outputId": "279c05a3-82de-41b2-cc52-cb4594bb33c5"
      },
      "source": [
        "mercury.iloc[-1]"
      ],
      "execution_count": null,
      "outputs": [
        {
          "output_type": "execute_result",
          "data": {
            "text/plain": [
              "4222.6"
            ]
          },
          "metadata": {
            "tags": []
          },
          "execution_count": 14
        }
      ]
    },
    {
      "cell_type": "code",
      "metadata": {
        "id": "LQKqf036qaxc",
        "colab_type": "code",
        "colab": {
          "base_uri": "https://localhost:8080/",
          "height": 68
        },
        "outputId": "05f41c5a-dceb-4aa3-a739-816eb0487705"
      },
      "source": [
        "mercury.iloc[0:2]"
      ],
      "execution_count": null,
      "outputs": [
        {
          "output_type": "execute_result",
          "data": {
            "text/plain": [
              "mass         0.33\n",
              "diameter    57.90\n",
              "dtype: float64"
            ]
          },
          "metadata": {
            "tags": []
          },
          "execution_count": 15
        }
      ]
    },
    {
      "cell_type": "code",
      "metadata": {
        "id": "Bdgcs8fRq0iy",
        "colab_type": "code",
        "colab": {
          "base_uri": "https://localhost:8080/",
          "height": 68
        },
        "outputId": "7ba02177-3812-496d-9687-40ab99c19bce"
      },
      "source": [
        "mercury.loc['mass' : 'diameter']"
      ],
      "execution_count": null,
      "outputs": [
        {
          "output_type": "execute_result",
          "data": {
            "text/plain": [
              "mass         0.33\n",
              "diameter    57.90\n",
              "dtype: float64"
            ]
          },
          "metadata": {
            "tags": []
          },
          "execution_count": 16
        }
      ]
    },
    {
      "cell_type": "code",
      "metadata": {
        "id": "QyJJ7ZoHyy3V",
        "colab_type": "code",
        "colab": {
          "base_uri": "https://localhost:8080/",
          "height": 85
        },
        "outputId": "a5d6b927-f5b5-44e6-b67f-9880d5de8435"
      },
      "source": [
        "mercury.loc[ : 'dayLength']"
      ],
      "execution_count": null,
      "outputs": [
        {
          "output_type": "execute_result",
          "data": {
            "text/plain": [
              "mass            0.33\n",
              "diameter       57.90\n",
              "dayLength    4222.60\n",
              "dtype: float64"
            ]
          },
          "metadata": {
            "tags": []
          },
          "execution_count": 17
        }
      ]
    },
    {
      "cell_type": "code",
      "metadata": {
        "id": "xNbR7DH_zIM-",
        "colab_type": "code",
        "colab": {}
      },
      "source": [
        ""
      ],
      "execution_count": null,
      "outputs": []
    }
  ]
}